{
  "nbformat": 4,
  "nbformat_minor": 0,
  "metadata": {
    "colab": {
      "provenance": []
    },
    "kernelspec": {
      "name": "python3",
      "display_name": "Python 3"
    },
    "language_info": {
      "name": "python"
    }
  },
  "cells": [
    {
      "cell_type": "markdown",
      "source": [
        "# XML-формат для представления информации о художественных фильмах"
      ],
      "metadata": {
        "id": "kcGkl3jP64Z3"
      }
    },
    {
      "cell_type": "markdown",
      "source": [
        "\n",
        "```\n",
        "<?xml version=\"1.0\" encoding=\"UTF-8\"?>\n",
        "<!DOCTYPE films SYSTEM \"films.dtd\">\n",
        "<films>\n",
        "  <film id=\"1\">\n",
        "    <title>Название фильма</title>\n",
        "    <genres_list>\n",
        "      <genre>Жанр 1</genre>\n",
        "      <genre>Жанр 2</genre>\n",
        "    </genres_list>\n",
        "    <director>Режиссер</director>\n",
        "    <composer>Композитор</composer>\n",
        "    <actors>\n",
        "      <actor>Актер 1</actor>\n",
        "      <actor>Актер 2</actor>\n",
        "      <actor>Актер 3</actor>\n",
        "    </actors>\n",
        "    <release_date>Дата выхода</release_date>\n",
        "    <box_office>Кассовые сборы</box_office>\n",
        "    <rating>Возрастные ограничения</rating>\n",
        "    <audience_count>Количество зрителей</audience_count>\n",
        "    <original_language>Язык оригинала</original_language>\n",
        "  </film>\n",
        "  ...\n",
        "</films>\n",
        "```"
      ],
      "metadata": {
        "id": "OR4Vc6G568v6"
      }
    },
    {
      "cell_type": "markdown",
      "source": [
        "## В разработанном формате информация о 5 фильмах. (1 балл)"
      ],
      "metadata": {
        "id": "8lk3cNoc9LzG"
      }
    },
    {
      "cell_type": "code",
      "source": [
        "# Определяем данные XML\n",
        "xml_data = '''<?xml version=\"1.0\"?>\n",
        "<!DOCTYPE films SYSTEM \"films.dtd\">\n",
        "<films>\n",
        "  <film id=\"film_1\">\n",
        "    <title>Властелин колец: Братство кольца</title>\n",
        "    <genres_list>\n",
        "      <genre>Фэнтези</genre>\n",
        "      <genre>Приключения</genre>\n",
        "      <genre>Боевик</genre>\n",
        "      <genre>Эпопея</genre>\n",
        "    </genres_list>\n",
        "    <director>Питер Джексон</director>\n",
        "    <composer>Говард Шор</composer>\n",
        "    <actors>\n",
        "      <actor>Элайджа Вуд</actor>\n",
        "      <actor>Вигго Мортенсен</actor>\n",
        "      <actor>Иэн Маккеллен</actor>\n",
        "      <actor>Шон Эстин</actor>\n",
        "      <actor>Орландо Блум</actor>\n",
        "      <actor>Кейт Бланшетт</actor>\n",
        "      <actor>Лив Тайлер</actor>\n",
        "      <actor>Хьюго Уивинг</actor>\n",
        "      <actor>Доминик Монаган</actor>\n",
        "      <actor>Билли Бойд</actor>\n",
        "      <actor>Питер Джексон</actor> <!-- Режиссер в роли актера -->\n",
        "    </actors>\n",
        "    <release_date>2001-12-19</release_date>\n",
        "    <box_office>880.8 миллиона долларов</box_office>\n",
        "    <rating>PG-13</rating>\n",
        "    <audience_count>175.3 миллиона человек</audience_count>\n",
        "    <original_language>Английский</original_language>\n",
        "  </film>\n",
        "  <film id=\"film_2\">\n",
        "    <title>Гарри Поттер и философский камень</title>\n",
        "    <genres_list>\n",
        "      <genre>Фэнтези</genre>\n",
        "      <genre>Приключения</genre>\n",
        "      <genre>Семейный</genre>\n",
        "      <genre>Детектив</genre>\n",
        "    </genres_list>\n",
        "    <director>Крис Коламбус</director>\n",
        "    <composer>Джон Уильямс</composer>\n",
        "    <actors>\n",
        "      <actor>Дэниел Рэдклифф</actor>\n",
        "      <actor>Руперт Гринт</actor>\n",
        "      <actor>Эмма Уотсон</actor>\n",
        "      <actor>Алан Рикман</actor>\n",
        "      <actor>Робби Колтрейн</actor>\n",
        "      <actor>Мэгги Смит</actor>\n",
        "      <actor>Ричард Харрис</actor>\n",
        "    </actors>\n",
        "    <release_date>2001-11-04</release_date>\n",
        "    <box_office>974.7 миллиона долларов</box_office>\n",
        "    <rating>PG</rating>\n",
        "    <audience_count>168.8 миллиона человек</audience_count>\n",
        "    <original_language>Английский</original_language>\n",
        "  </film>\n",
        "  <film id=\"film_3\">\n",
        "    <title>Пираты Карибского моря: Проклятие Чёрной жемчужины</title>\n",
        "    <genres_list>\n",
        "      <genre>Приключения</genre>\n",
        "      <genre>Фэнтези</genre>\n",
        "      <genre>Боевик</genre>\n",
        "      <genre>Комедия</genre>\n",
        "    </genres_list>\n",
        "    <director>Гор Вербински</director>\n",
        "    <composer>Клаус Бадельт</composer>\n",
        "    <actors>\n",
        "      <actor>Джонни Депп</actor>\n",
        "      <actor>Орландо Блум</actor>\n",
        "      <actor>Кейра Найтли</actor>\n",
        "      <actor>Джеффри Раш</actor>\n",
        "      <actor>Джек Дэвенпорт</actor>\n",
        "      <actor>Кевин Макналли</actor>\n",
        "    </actors>\n",
        "    <release_date>2003-07-09</release_date>\n",
        "    <box_office>654.3 миллиона долларов</box_office>\n",
        "    <rating>PG-13</rating>\n",
        "    <audience_count>150.0 миллионов человек</audience_count>\n",
        "    <original_language>Английский</original_language>\n",
        "  </film>\n",
        "  <film id=\"film_4\">\n",
        "    <title>Тёмный рыцарь</title>\n",
        "    <genres_list>\n",
        "        <genre>Экшн</genre>\n",
        "        <genre>Драма</genre>\n",
        "        <genre>Криминал</genre>\n",
        "        <genre>Триллер</genre>\n",
        "        <genre>Супергеройский</genre>\n",
        "    </genres_list>\n",
        "    <director>Кристофер Нолан</director>\n",
        "    <composer>Ханс Циммер</composer>\n",
        "    <actors>\n",
        "      <actor>Кристиан Бэйл</actor>\n",
        "      <actor>Хит Леджер</actor>\n",
        "      <actor>Аарон Экхарт</actor>\n",
        "      <actor>Маги Джилленхол</actor>\n",
        "      <actor>Гари Олдман</actor>\n",
        "    </actors>\n",
        "    <release_date>2008-07-18</release_date>\n",
        "    <box_office>1.005 миллиард долларов</box_office>\n",
        "    <rating>PG-13</rating>\n",
        "    <audience_count>185.0 миллионов человек</audience_count>\n",
        "    <original_language>Английский</original_language>\n",
        "  </film>\n",
        "  <film id=\"film_5\">\n",
        "    <title>Интерстеллар</title>\n",
        "    <genres_list>\n",
        "      <genre>Научная фантастика</genre>\n",
        "      <genre>Драма</genre>\n",
        "    </genres_list>\n",
        "    <director>Кристофер Нолан</director>\n",
        "    <composer>Ханс Циммер</composer>\n",
        "    <actors>\n",
        "      <actor>Мэттью МакКонахи</actor>\n",
        "      <actor>Энн Хэтэуэй</actor>\n",
        "      <actor>Джессика Честейн</actor>\n",
        "      <actor>Майкл Кейн</actor>\n",
        "      <actor>Тимоти Шаламе</actor>\n",
        "    </actors>\n",
        "    <release_date>2014-11-07</release_date>\n",
        "    <box_office>677.5 миллиона долларов</box_office>\n",
        "    <rating>PG-13</rating>\n",
        "    <audience_count>120.0 миллионов человек</audience_count>\n",
        "    <original_language>Английский</original_language>\n",
        "  </film>\n",
        "  <film id=\"film_6\">\n",
        "    <title>Властелин колец: Две крепости</title>\n",
        "  \t<genres_list>\n",
        "  \t\t<genre>Фэнтези</genre>\n",
        "      <genre>Приключения</genre>\n",
        "      <genre>Эпопея</genre>\n",
        "      <genre>Боевик</genre>\n",
        "      <genre>Драма</genre>\n",
        "    </genres_list>\n",
        "    <director>Питер Джексон</director>\n",
        "    <composer>Говард Шор</composer>\n",
        "    <actors>\n",
        "      <actor>Элайджа Вуд</actor>\n",
        "      <actor>Иэн Маккеллен</actor>\n",
        "      <actor>Лив Тайлер</actor>\n",
        "      <actor>Вигго Мортенсен</actor>\n",
        "      <actor>Шон Астин</actor>\n",
        "      <actor>Питер Джексон</actor> <!-- Режиссер в роли актера -->\n",
        "    </actors>\n",
        "    <release_date>2002-12-18</release_date>\n",
        "    <box_office>926.0 миллиона долларов</box_office>\n",
        "    <rating>PG-13</rating>\n",
        "    <audience_count>180.0 миллионов человек</audience_count>\n",
        "    <original_language>Английский</original_language>\n",
        "  </film>\n",
        "  <film id=\"film_7\">\n",
        "    <title>Донни Дарко</title>\n",
        "    <genres_list>\n",
        "      <genre>Научная фантастика</genre>\n",
        "      <genre>Драма</genre>\n",
        "    </genres_list>\n",
        "    <director>Ричард Келли</director>\n",
        "    <composer>Мадонна</composer>\n",
        "    <actors>\n",
        "      <actor>Джейк Джилленхол</actor>\n",
        "      <actor>Мэгги Джилленхол</actor>\n",
        "      <actor>Джеймс Дюваль</actor>\n",
        "      <actor>Дrew Barrymore</actor>\n",
        "      <actor>Патрик Суэйзи</actor>\n",
        "      <actor>Ричард Келли</actor> <!-- Режиссер в роли актера -->\n",
        "    </actors>\n",
        "    <release_date>2001-01-19</release_date>\n",
        "    <box_office>7.5 миллионов долларов</box_office>\n",
        "    <rating>R</rating>\n",
        "    <audience_count>1.5 миллиона человек</audience_count>\n",
        "    <original_language>Английский</original_language>\n",
        "  </film>\n",
        "</films>\n",
        "'''\n",
        "xml_path = 'films.xml'\n",
        "# Записываем данные в файл\n",
        "try:\n",
        "  with open(xml_path, 'w', encoding='utf-8') as file:\n",
        "      file.write(xml_data)\n",
        "      print(f\"XML файл создан: {xml_path}\")\n",
        "except IOError as e:\n",
        "    print(f\"Ошибка создания XML файла: {e}\")"
      ],
      "metadata": {
        "colab": {
          "base_uri": "https://localhost:8080/"
        },
        "id": "uysuv2Jk68Rt",
        "outputId": "cb63216d-660a-408f-ae0f-20c6c0ef6078"
      },
      "execution_count": null,
      "outputs": [
        {
          "output_type": "stream",
          "name": "stdout",
          "text": [
            "XML файл создан: films.xml\n"
          ]
        }
      ]
    },
    {
      "cell_type": "markdown",
      "source": [
        "## Разработать xPath-запросы (2 балла):\n",
        "\n",
        "a)      Получить все фильмы указанного жанра (задается в запросе константой).\n",
        "\n",
        "b)      Получить все фильмы с актерским составом белее пяти человек.\n",
        "\n",
        "c)      Получить все фильмы, в которых указанный человек (задается в запросе константой) является и режиссером и актором одновременно.\n",
        "\n",
        "d)      Сформировать список просмотра из заданного количества фильмов указанного жанра. Порядок фильмов определяется случайным образом.\n",
        "\n",
        "e)      Собственный запрос с использование минимум двух функций count(), contains(), position(), sum() и др (https://www.w3.org/TR/xpath-functions/)."
      ],
      "metadata": {
        "id": "z1F6dZs09F1Z"
      }
    },
    {
      "cell_type": "code",
      "source": [
        "from lxml import etree\n",
        "\n",
        "# Парсим XML\n",
        "root = etree.fromstring(xml_data)\n",
        "\n",
        "# a) Получить все фильмы указанного жанра\n",
        "genre = 'Фэнтези'\n",
        "films_by_genre = root.xpath(f\"//film[genres_list/genre='{genre}']/title\")\n",
        "print(\"Фильмы жанра 'Фэнтези':\", [film.text for film in films_by_genre])\n",
        "print()\n",
        "\n",
        "# b) Получить все фильмы с актерским составом более пяти человек\n",
        "films_with_large_cast = root.xpath(\"//film[count(actors/actor) > 5]/title\")\n",
        "print(\"Фильмы с более чем 5 актерами:\", [film.text for film in films_with_large_cast])\n",
        "print()\n",
        "\n",
        "# c) Получить все фильмы, в которых указанный человек является и режиссером, и актором\n",
        "person = 'Питер Джексон'\n",
        "films_with_person = root.xpath(f\"//film[director='{person}' and count(actors/actor[.='{person}']) > 0]/title\")\n",
        "print(\"Фильмы, где 'Питер Джексон' и режиссер, и актер:\", [film.text for film in films_with_person])\n",
        "print()\n",
        "\n",
        "# d) Сформировать список просмотра из заданного количества фильмов указанного жанра\n",
        "import random\n",
        "num_films = 3\n",
        "# Выбираем все фильмы указанного жанра\n",
        "all_films = root.xpath(f\"//film[genres_list/genre='{genre}']\")\n",
        "# Перемешиваем список фильмов случайным образом\n",
        "random_films = random.sample(all_films, min(num_films, len(all_films)))\n",
        "# Выводим список случайных фильмов\n",
        "print(f\"Список просмотра из {num_films} фильмов жанра '{genre}':\", [film.find('title').text for film in random_films])\n",
        "print()\n",
        "\n",
        "# e) Собственный запрос с использованием минимум двух функций\n",
        "custom_query = root.xpath(\"//film[count(actors/actor) > 5 and count(genres_list/genre) > 3 and position() < 4]\")#для Xpath1.0\n",
        "#для Xpath2.0 для сайта xpather.com\n",
        "#//film[count(cast/actor) > 5][position() < 4][some $genre in genre satisfies contains($genre, 'Приключения')]\n",
        "print(\"Фильмы с более чем 5 актерами и более чем 3 жанрами (первые 3 совпадения):\", [film.find('title').text for film in custom_query])"
      ],
      "metadata": {
        "colab": {
          "base_uri": "https://localhost:8080/"
        },
        "id": "QCXLi0NdSUxq",
        "outputId": "b3a63c9e-75f3-4314-8916-8259c30fd5fe"
      },
      "execution_count": null,
      "outputs": [
        {
          "output_type": "stream",
          "name": "stdout",
          "text": [
            "Фильмы жанра 'Фэнтези': ['Властелин колец: Братство кольца', 'Гарри Поттер и философский камень', 'Пираты Карибского моря: Проклятие Чёрной жемчужины', 'Властелин колец: Две крепости']\n",
            "\n",
            "Фильмы с более чем 5 актерами: ['Властелин колец: Братство кольца', 'Гарри Поттер и философский камень', 'Пираты Карибского моря: Проклятие Чёрной жемчужины', 'Властелин колец: Две крепости', 'Донни Дарко']\n",
            "\n",
            "Фильмы, где 'Питер Джексон' и режиссер, и актер: ['Властелин колец: Братство кольца', 'Властелин колец: Две крепости']\n",
            "\n",
            "Список просмотра из 3 фильмов жанра 'Фэнтези': ['Властелин колец: Братство кольца', 'Пираты Карибского моря: Проклятие Чёрной жемчужины', 'Гарри Поттер и философский камень']\n",
            "\n",
            "Фильмы с более чем 5 актерами и более чем 3 жанрами (первые 3 совпадения): ['Властелин колец: Братство кольца', 'Гарри Поттер и философский камень', 'Пираты Карибского моря: Проклятие Чёрной жемчужины']\n"
          ]
        }
      ]
    },
    {
      "cell_type": "markdown",
      "source": [
        " ## Описать DTD схему для разработанного формата. Произвести валидацию xml-документа (0,5 балла)."
      ],
      "metadata": {
        "id": "uuO7EJpfZqUk"
      }
    },
    {
      "cell_type": "code",
      "source": [
        "dtd_content = \"\"\"\n",
        "    <!ELEMENT films (film+)>\n",
        "    <!ELEMENT film (\n",
        "        title,\n",
        "        genres_list,\n",
        "        director,\n",
        "        composer,\n",
        "        actors,\n",
        "        release_date,\n",
        "        box_office,\n",
        "        rating,\n",
        "        audience_count,\n",
        "        original_language\n",
        "    )>\n",
        "    <!ATTLIST film id ID #REQUIRED>\n",
        "\n",
        "    <!ELEMENT title (#PCDATA)>\n",
        "    <!ELEMENT genres_list (genre+)>\n",
        "    <!ELEMENT genre (#PCDATA)>\n",
        "\n",
        "    <!ELEMENT director (#PCDATA)>\n",
        "    <!ELEMENT composer (#PCDATA)>\n",
        "\n",
        "    <!ELEMENT actors (actor+)>\n",
        "    <!ELEMENT actor (#PCDATA)>\n",
        "\n",
        "    <!ELEMENT release_date (#PCDATA)>\n",
        "    <!ELEMENT box_office (#PCDATA)>\n",
        "    <!ELEMENT rating (#PCDATA)>\n",
        "    <!ELEMENT audience_count (#PCDATA)>\n",
        "    <!ELEMENT original_language (#PCDATA)>\n",
        "    \"\"\"\n",
        "dtd_path = 'films.dtd'\n",
        "try:\n",
        "    with open(dtd_path, 'w', encoding='utf-8') as f:\n",
        "        f.write(dtd_content)\n",
        "    print(f\"DTD файл создан: {dtd_path}\")\n",
        "except IOError as e:\n",
        "    print(f\"Ошибка создания DTD файла: {e}\")"
      ],
      "metadata": {
        "colab": {
          "base_uri": "https://localhost:8080/"
        },
        "id": "Xjd5ZDT6WeAU",
        "outputId": "762b27d1-7518-400f-c627-370d49af7c6b"
      },
      "execution_count": null,
      "outputs": [
        {
          "output_type": "stream",
          "name": "stdout",
          "text": [
            "DTD файл создан: films.dtd\n"
          ]
        }
      ]
    },
    {
      "cell_type": "code",
      "source": [
        "def validate_xml(xml_path, dtd_path):\n",
        "    \"\"\"\n",
        "    Функция валидации XML-документа по DTD схеме\n",
        "\n",
        "    :param xml_path: путь к XML файлу\n",
        "    :param dtd_path: путь к DTD файлу\n",
        "    :return: результат валидации\n",
        "    \"\"\"\n",
        "    try:\n",
        "        # Парсинг DTD\n",
        "        dtd = etree.DTD(open(dtd_path, 'rb'))\n",
        "\n",
        "        # Парсинг XML\n",
        "        xmltree = etree.parse(xml_path)\n",
        "\n",
        "        # Проверка валидности\n",
        "        is_valid = dtd.validate(xmltree)\n",
        "\n",
        "        if is_valid:\n",
        "            print(\"XML документ валиден!\")\n",
        "            return True\n",
        "        else:\n",
        "            print(\"Ошибки валидации:\")\n",
        "            for error in dtd.error_log:\n",
        "                print(f\"Строка {error.line}: {error.message}\")\n",
        "            return False\n",
        "\n",
        "    except IOError as e:\n",
        "        print(f\"Ошибка открытия файла: {e}\")\n",
        "        return False\n",
        "\n",
        "    except etree.DocumentInvalid as e:\n",
        "        print(f\"Документ не соответствует DTD: {e}\")\n",
        "        return False\n",
        "validation_result = validate_xml(xml_path, dtd_path)\n"
      ],
      "metadata": {
        "colab": {
          "base_uri": "https://localhost:8080/"
        },
        "id": "tXvvKl6Waej3",
        "outputId": "e7eeb63d-4b37-49cb-d53a-5abd10cd1728"
      },
      "execution_count": null,
      "outputs": [
        {
          "output_type": "stream",
          "name": "stdout",
          "text": [
            "XML документ валиден!\n"
          ]
        }
      ]
    },
    {
      "cell_type": "markdown",
      "source": [
        "## Описать XML Schema для разработанного формата. Произвести валидацию xml-документа. (0,5 балл)"
      ],
      "metadata": {
        "id": "v6Ow6DQWbt-9"
      }
    },
    {
      "cell_type": "code",
      "source": [
        "xsd_content = '''<?xml version=\"1.0\" encoding=\"UTF-8\"?>\n",
        "<xs:schema xmlns:xs=\"http://www.w3.org/2001/XMLSchema\">\n",
        "    <!-- Определение корневого элемента -->\n",
        "    <xs:element name=\"films\">\n",
        "        <xs:complexType>\n",
        "            <xs:sequence>\n",
        "                <xs:element name=\"film\" type=\"filmType\" minOccurs=\"1\" maxOccurs=\"unbounded\"/>\n",
        "            </xs:sequence>\n",
        "        </xs:complexType>\n",
        "\n",
        "        <!-- Уникальность id -->\n",
        "        <xs:unique name=\"uniqueFilmId\">\n",
        "            <xs:selector xpath=\"film\"/>\n",
        "            <xs:field xpath=\"@id\"/>\n",
        "        </xs:unique>\n",
        "    </xs:element>\n",
        "\n",
        "    <!-- Тип для фильма -->\n",
        "    <xs:complexType name=\"filmType\">\n",
        "        <xs:sequence>\n",
        "            <xs:element name=\"title\" type=\"xs:string\"/>\n",
        "\n",
        "            <xs:element name=\"genres_list\">\n",
        "                <xs:complexType>\n",
        "                    <xs:sequence>\n",
        "                        <xs:element name=\"genre\" type=\"xs:string\" minOccurs=\"1\" maxOccurs=\"unbounded\"/>\n",
        "                    </xs:sequence>\n",
        "                </xs:complexType>\n",
        "            </xs:element>\n",
        "\n",
        "            <xs:element name=\"director\" type=\"xs:string\"/>\n",
        "            <xs:element name=\"composer\" type=\"xs:string\"/>\n",
        "\n",
        "            <xs:element name=\"actors\">\n",
        "                <xs:complexType>\n",
        "                    <xs:sequence>\n",
        "                        <xs:element name=\"actor\" type=\"xs:string\" minOccurs=\"1\" maxOccurs=\"unbounded\"/>\n",
        "                    </xs:sequence>\n",
        "                </xs:complexType>\n",
        "            </xs:element>\n",
        "\n",
        "            <xs:element name=\"release_date\" type=\"xs:date\"/>\n",
        "            <xs:element name=\"box_office\" type=\"xs:string\"/>\n",
        "            <xs:element name=\"rating\" type=\"xs:string\"/>\n",
        "            <xs:element name=\"audience_count\" type=\"xs:string\"/>\n",
        "            <xs:element name=\"original_language\" type=\"xs:string\"/>\n",
        "        </xs:sequence>\n",
        "\n",
        "        <!-- Атрибут id -->\n",
        "        <xs:attribute name=\"id\" type=\"xs:string\" use=\"required\"/>\n",
        "    </xs:complexType>\n",
        "</xs:schema>\n",
        "'''\n",
        "\n",
        "xsd_path = 'films.xsd'\n",
        "\n",
        "try:\n",
        "    with open(xsd_path, 'w', encoding='utf-8') as f:\n",
        "        f.write(xsd_content)\n",
        "    print(f\"XSD файл создан: {xsd_path}\")\n",
        "except IOError as e:\n",
        "    print(f\"Ошибка создания XSD файла: {e}\")"
      ],
      "metadata": {
        "colab": {
          "base_uri": "https://localhost:8080/"
        },
        "id": "IuIsdvDcbzH-",
        "outputId": "b52e53a4-39f5-4b36-9306-1ea16e2e9feb"
      },
      "execution_count": null,
      "outputs": [
        {
          "output_type": "stream",
          "name": "stdout",
          "text": [
            "XSD файл создан: films.xsd\n"
          ]
        }
      ]
    },
    {
      "cell_type": "code",
      "source": [
        "def validate_xml(xml_path, xsd_path):\n",
        "    \"\"\"\n",
        "    Функция валидации XML-документа по XSD схеме\n",
        "\n",
        "    :param xml_path: путь к XML файлу\n",
        "    :param xsd_path: путь к XSD файлу\n",
        "    :return: результат валидации\n",
        "    \"\"\"\n",
        "    try:\n",
        "        # Загрузка XML Schema\n",
        "        xmlschema_doc = etree.parse(xsd_path)\n",
        "        xmlschema = etree.XMLSchema(xmlschema_doc)\n",
        "\n",
        "        # Парсинг XML\n",
        "        try:\n",
        "            xml_doc = etree.parse(xml_path)\n",
        "\n",
        "            # Валидация\n",
        "            validation_result = xmlschema.validate(xml_doc)\n",
        "\n",
        "            if validation_result:\n",
        "                print(\"XML документ валиден!\")\n",
        "                return True\n",
        "            else:\n",
        "                print(\"Ошибки валидации:\")\n",
        "                # Вывод подробных ошибок\n",
        "                log = xmlschema.error_log\n",
        "                for error in log:\n",
        "                    print(f\"Строка {error.line}: {error.message}\")\n",
        "                return False\n",
        "\n",
        "        except etree.XMLSyntaxError as e:\n",
        "            print(f\"Ошибка парсинга XML: {e}\")\n",
        "            return False\n",
        "\n",
        "    except IOError as e:\n",
        "        print(f\"Ошибка открытия файла: {e}\")\n",
        "        return False\n",
        "\n",
        "    except etree.XMLSchemaParseError as e:\n",
        "        print(f\"Ошибка парсинга XML Schema: {e}\")\n",
        "        return False\n",
        "\n",
        "validation_result = validate_xml(xml_path, xsd_path)"
      ],
      "metadata": {
        "colab": {
          "base_uri": "https://localhost:8080/"
        },
        "id": "etLYLMfSb45X",
        "outputId": "f643086b-4bf1-4fac-f74d-225ca74c23ab"
      },
      "execution_count": null,
      "outputs": [
        {
          "output_type": "stream",
          "name": "stdout",
          "text": [
            "XML документ валиден!\n"
          ]
        }
      ]
    },
    {
      "cell_type": "markdown",
      "source": [
        "## Описать XSLT-преобразование xml-документа в текстовый вид (*.txt). (1 балл)"
      ],
      "metadata": {
        "id": "EbHQsmzvcmfA"
      }
    },
    {
      "cell_type": "code",
      "source": [
        "# XSLT для преобразования XML в текстовый формат\n",
        "xslt_content = '''<?xml version=\"1.0\" encoding=\"UTF-8\"?>\n",
        "<xsl:stylesheet version=\"1.0\" xmlns:xsl=\"http://www.w3.org/1999/XSL/Transform\">\n",
        "    <!-- Корневой шаблон -->\n",
        "    <xsl:template match=\"/\">\n",
        "        <xsl:apply-templates select=\"films\"/>\n",
        "    </xsl:template>\n",
        "\n",
        "    <!-- Шаблон для списка фильмов -->\n",
        "    <xsl:template match=\"films\">\n",
        "        <xsl:text>Список фильмов:&#10;&#10;</xsl:text>\n",
        "        <xsl:apply-templates select=\"film\"/>\n",
        "    </xsl:template>\n",
        "\n",
        "    <!-- Шаблон для отдельного фильма -->\n",
        "    <xsl:template match=\"film\">\n",
        "        <xsl:text>Фильм: </xsl:text>\n",
        "        <xsl:value-of select=\"title\"/>\n",
        "        <xsl:text>&#10;</xsl:text>\n",
        "\n",
        "        <xsl:text>ID: </xsl:text>\n",
        "        <xsl:value-of select=\"@id\"/>\n",
        "        <xsl:text>&#10;</xsl:text>\n",
        "\n",
        "        <xsl:text>Жанры: </xsl:text>\n",
        "        <xsl:for-each select=\"genres_list/genre\">\n",
        "            <xsl:value-of select=\".\"/>\n",
        "            <xsl:if test=\"position() != last()\">, </xsl:if>\n",
        "        </xsl:for-each>\n",
        "        <xsl:text>&#10;</xsl:text>\n",
        "\n",
        "        <xsl:text>Режиссер: </xsl:text>\n",
        "        <xsl:value-of select=\"director\"/>\n",
        "        <xsl:text>&#10;</xsl:text>\n",
        "\n",
        "        <xsl:text>Композитор: </xsl:text>\n",
        "        <xsl:value-of select=\"composer\"/>\n",
        "        <xsl:text>&#10;</xsl:text>\n",
        "\n",
        "        <xsl:text>Актеры: </xsl:text>\n",
        "        <xsl:for-each select=\"actors/actor\">\n",
        "            <xsl:value-of select=\".\"/>\n",
        "            <xsl:if test=\"position() != last()\">, </xsl:if>\n",
        "        </xsl:for-each>\n",
        "        <xsl:text>&#10;</xsl:text>\n",
        "\n",
        "        <xsl:text>Дата выхода: </xsl:text>\n",
        "        <xsl:value-of select=\"release_date\"/>\n",
        "        <xsl:text>&#10;</xsl:text>\n",
        "\n",
        "        <xsl:text>Сборы: </xsl:text>\n",
        "        <xsl:value-of select=\"box_office\"/>\n",
        "        <xsl:text>&#10;</xsl:text>\n",
        "\n",
        "        <xsl:text>Рейтинг: </xsl:text>\n",
        "        <xsl:value-of select=\"rating\"/>\n",
        "        <xsl:text>&#10;</xsl:text>\n",
        "\n",
        "        <xsl:text>Количество зрителей: </xsl:text>\n",
        "        <xsl:value-of select=\"audience_count\"/>\n",
        "        <xsl:text>&#10;</xsl:text>\n",
        "\n",
        "        <xsl:text>Оригинальный язык: </xsl:text>\n",
        "        <xsl:value-of select=\"original_language\"/>\n",
        "        <xsl:text>&#10;&#10;</xsl:text>\n",
        "    </xsl:template>\n",
        "</xsl:stylesheet>\n",
        "'''\n",
        "\n",
        "xslt_path = 'films_transform.xslt'\n",
        "\n",
        "try:\n",
        "    with open(xslt_path, 'w', encoding='utf-8') as f:\n",
        "        f.write(xslt_content)\n",
        "    print(f\"XSLT файл создан: {xslt_path}\")\n",
        "except IOError as e:\n",
        "    print(f\"Ошибка создания XSLT файла: {e}\")"
      ],
      "metadata": {
        "colab": {
          "base_uri": "https://localhost:8080/"
        },
        "id": "A15-iwqgcPiH",
        "outputId": "90510523-aaba-48c7-fa18-f14e376e047a"
      },
      "execution_count": null,
      "outputs": [
        {
          "output_type": "stream",
          "name": "stdout",
          "text": [
            "XSLT файл создан: films_transform.xslt\n"
          ]
        }
      ]
    },
    {
      "cell_type": "code",
      "source": [
        "def transform_xml_to_txt(xml_path, xslt_path, output_path):\n",
        "    \"\"\"\n",
        "    Преобразование XML в текстовый файл с помощью XSLT\n",
        "\n",
        "    :param xml_path: путь к исходному XML файлу\n",
        "    :param xslt_path: путь к XSLT файлу\n",
        "    :param output_path: путь к выходному текстовому файлу\n",
        "    :return: результат преобразования\n",
        "    \"\"\"\n",
        "    try:\n",
        "        # Загрузка XML документа\n",
        "        xml_doc = etree.parse(xml_path)\n",
        "\n",
        "        # Загрузка XSLT\n",
        "        xslt_doc = etree.parse(xslt_path)\n",
        "        transform = etree.XSLT(xslt_doc)\n",
        "\n",
        "        # Выполнение трансформации\n",
        "        result_tree = transform(xml_doc)\n",
        "\n",
        "        # Сохранение результата в текстовый файл\n",
        "        with open(output_path, 'w', encoding='utf-8') as f:\n",
        "            f.write(str(result_tree))\n",
        "\n",
        "        print(f\"Преобразование завершено. Результат сохранен в {output_path}\")\n",
        "        return True\n",
        "\n",
        "    except etree.XMLSyntaxError as e:\n",
        "        print(f\"Ошибка парсинга XML: {e}\")\n",
        "        return False\n",
        "\n",
        "    except etree.XSLTApplyError as e:\n",
        "        print(f\"Ошибка применения XSLT: {e}\")\n",
        "        return False\n",
        "\n",
        "    except IOError as e:\n",
        "        print(f\"Ошибка ввода/вывода: {e}\")\n",
        "        return False\n",
        "output_path = 'films_output.txt'\n",
        "transform_xml_to_txt(xml_path, xslt_path, output_path)"
      ],
      "metadata": {
        "colab": {
          "base_uri": "https://localhost:8080/"
        },
        "id": "zKeAnwZ4dIGZ",
        "outputId": "a25daf67-ea62-4652-ec0a-9b26c28ef4d6"
      },
      "execution_count": null,
      "outputs": [
        {
          "output_type": "stream",
          "name": "stdout",
          "text": [
            "Преобразование завершено. Результат сохранен в films_output.txt\n"
          ]
        },
        {
          "output_type": "execute_result",
          "data": {
            "text/plain": [
              "True"
            ]
          },
          "metadata": {},
          "execution_count": 8
        }
      ]
    },
    {
      "cell_type": "markdown",
      "source": [
        "## Описать XSLT-преобразование xml-документа в html-страницу (информация должна быть представлено в табличном виде), при оформлении таблицы использованы стили (1 балл)"
      ],
      "metadata": {
        "id": "VCVuRHVfdv6q"
      }
    },
    {
      "cell_type": "code",
      "source": [
        "xslt_content = '''<?xml version=\"1.0\" encoding=\"UTF-8\"?>\n",
        "<xsl:stylesheet version=\"1.0\" xmlns:xsl=\"http://www.w3.org/1999/XSL/Transform\">\n",
        "    <xsl:template match=\"/\">\n",
        "        <html>\n",
        "            <head>\n",
        "                <title>Список фильмов</title>\n",
        "                <style>\n",
        "                    body {\n",
        "                        font-family: Arial, sans-serif;\n",
        "                        line-height: 1.6;\n",
        "                        max-width: 1200px;\n",
        "                        margin: 0 auto;\n",
        "                        padding: 20px;\n",
        "                        background-color: #f4f4f4;\n",
        "                    }\n",
        "                    h1 {\n",
        "                        text-align: center;\n",
        "                        color: #333;\n",
        "                    }\n",
        "                    .films-table {\n",
        "                        width: 100%;\n",
        "                        border-collapse: collapse;\n",
        "                        margin-top: 20px;\n",
        "                        box-shadow: 0 0 20px rgba(0, 0, 0, 0.1);\n",
        "                    }\n",
        "                    .films-table th, .films-table td {\n",
        "                        padding: 12px;\n",
        "                        text-align: left;\n",
        "                        border-bottom: 1px solid #ddd;\n",
        "                    }\n",
        "                    .films-table th {\n",
        "                        background-color: #4CAF50;\n",
        "                        color: white;\n",
        "                        text-transform: uppercase;\n",
        "                    }\n",
        "                    .films-table tr:nth-child(even) {\n",
        "                        background-color: #f2f2f2;\n",
        "                    }\n",
        "                    .films-table tr:hover {\n",
        "                        background-color: #ddd;\n",
        "                    }\n",
        "                    .genres, .actors {\n",
        "                        color: #666;\n",
        "                        font-style: italic;\n",
        "                    }\n",
        "                </style>\n",
        "            </head>\n",
        "            <body>\n",
        "                <h1>Каталог фильмов</h1>\n",
        "                <table class=\"films-table\">\n",
        "                    <thead>\n",
        "                        <tr>\n",
        "                            <th>ID</th>\n",
        "                            <th>Название</th>\n",
        "                            <th>Жанры</th>\n",
        "                            <th>Режиссер</th>\n",
        "                            <th>Композитор</th>\n",
        "                            <th>Актеры</th>\n",
        "                            <th>Дата выхода</th>\n",
        "                            <th>Сборы</th>\n",
        "                            <th>Рейтинг</th>\n",
        "                            <th>Зрители</th>\n",
        "                            <th>Язык</th>\n",
        "                        </tr>\n",
        "                    </thead>\n",
        "                    <tbody>\n",
        "                        <xsl:for-each select=\"films/film\">\n",
        "                            <tr>\n",
        "                                <td><xsl:value-of select=\"@id\"/></td>\n",
        "                                <td><xsl:value-of select=\"title\"/></td>\n",
        "                                <td class=\"genres\">\n",
        "                                    <xsl:for-each select=\"genres_list/genre\">\n",
        "                                        <xsl:value-of select=\".\"/>\n",
        "                                        <xsl:if test=\"position() != last()\">, </xsl:if>\n",
        "                                    </xsl:for-each>\n",
        "                                </td>\n",
        "                                <td><xsl:value-of select=\"director\"/></td>\n",
        "                                <td><xsl:value-of select=\"composer\"/></td>\n",
        "                                <td class=\"actors\">\n",
        "                                    <xsl:for-each select=\"actors/actor\">\n",
        "                                        <xsl:value-of select=\".\"/>\n",
        "                                        <xsl:if test=\"position() != last()\">, </xsl:if>\n",
        "                                    </xsl:for-each>\n",
        "                                </td>\n",
        "                                <td><xsl:value-of select=\"release_date\"/></td>\n",
        "                                <td><xsl:value-of select=\"box_office\"/></td>\n",
        "                                <td><xsl:value-of select=\"rating\"/></td>\n",
        "                                <td><xsl:value-of select=\"audience_count\"/></td>\n",
        "                                <td><xsl:value-of select=\"original_language\"/></td>\n",
        "                            </tr>\n",
        "                        </xsl:for-each>\n",
        "                    </tbody>\n",
        "                </table>\n",
        "            </body>\n",
        "        </html>\n",
        "    </xsl:template>\n",
        "</xsl:stylesheet>\n",
        "'''\n",
        "\n",
        "xslt_path = 'films_transform.xslt'\n",
        "\n",
        "try:\n",
        "    with open(xslt_path, 'w', encoding='utf-8') as f:\n",
        "        f.write(xslt_content)\n",
        "    print(f\"XSLT файл создан: {xslt_path}\")\n",
        "except IOError as e:\n",
        "    print(f\"Ошибка создания XSLT файла: {e}\")"
      ],
      "metadata": {
        "colab": {
          "base_uri": "https://localhost:8080/"
        },
        "id": "gXY2LtC4dX-J",
        "outputId": "6e7e5141-ea1b-43e8-d39e-b1136e9e6289"
      },
      "execution_count": null,
      "outputs": [
        {
          "output_type": "stream",
          "name": "stdout",
          "text": [
            "XSLT файл создан: films_transform.xslt\n"
          ]
        }
      ]
    },
    {
      "cell_type": "code",
      "source": [
        "def transform_xml_to_html(xml_path, xslt_path, output_path):\n",
        "    \"\"\"\n",
        "    Преобразование XML в HTML с помощью XSLT\n",
        "\n",
        "    :param xml_path: путь к исходному XML файлу\n",
        "    :param xslt_path: путь к XSLT файлу\n",
        "    :param output_path: путь к выходному HTML файлу\n",
        "    :return: результат преобразования\n",
        "    \"\"\"\n",
        "    try:\n",
        "        # Загрузка XML документа\n",
        "        xml_doc = etree.parse(xml_path)\n",
        "\n",
        "        # Загрузка XSLT\n",
        "        xslt_doc = etree.parse(xslt_path)\n",
        "        transform = etree.XSLT(xslt_doc)\n",
        "\n",
        "        # Выполнение трансформации\n",
        "        result_tree = transform(xml_doc)\n",
        "\n",
        "        # Сохранение результата в HTML файл\n",
        "        with open(output_path, 'wb') as f:\n",
        "            f.write(etree.tostring(result_tree, pretty_print=True, method=\"html\"))\n",
        "\n",
        "        print(f\"Преобразование завершено. Результат сохранен в {output_path}\")\n",
        "        return True\n",
        "\n",
        "    except etree.XMLSyntaxError as e:\n",
        "        print(f\"Ошибка парсинга XML: {e}\")\n",
        "        return False\n",
        "\n",
        "    except etree.XSLTApplyError as e:\n",
        "        print(f\"Ошибка применения XSLT: {e}\")\n",
        "        return False\n",
        "\n",
        "    except IOError as e:\n",
        "        print(f\"Ошибка ввода/вывода: {e}\")\n",
        "        return False\n",
        "\n",
        "output_path = 'films_output.html'\n",
        "transform_result = transform_xml_to_html(xml_path, xslt_path, output_path)"
      ],
      "metadata": {
        "colab": {
          "base_uri": "https://localhost:8080/"
        },
        "id": "XSNvNNireDzO",
        "outputId": "d25ac1bc-89ad-4b38-fec8-e5777a13dcc4"
      },
      "execution_count": null,
      "outputs": [
        {
          "output_type": "stream",
          "name": "stdout",
          "text": [
            "Преобразование завершено. Результат сохранен в films_output.html\n"
          ]
        }
      ]
    },
    {
      "cell_type": "markdown",
      "source": [
        "# Аналогичные задачи для формата JSON (2 балла)"
      ],
      "metadata": {
        "id": "7lVuPgB1eX1I"
      }
    },
    {
      "cell_type": "markdown",
      "source": [
        "## Создание json с информацией о фильмах"
      ],
      "metadata": {
        "id": "ffqwkHTAgfDw"
      }
    },
    {
      "cell_type": "code",
      "source": [
        "import json\n",
        "\n",
        "def xml_to_json(xml_path, json_path):\n",
        "    \"\"\"\n",
        "    Преобразование XML файла в JSON\n",
        "\n",
        "    :param xml_path: путь к исходному XML файлу\n",
        "    :param json_path: путь для сохранения JSON файла\n",
        "    \"\"\"\n",
        "    try:\n",
        "        # Парсинг XML\n",
        "        tree = etree.parse(xml_path)\n",
        "        root = tree.getroot()\n",
        "\n",
        "        # Список для хранения фильмов\n",
        "        films_list = []\n",
        "\n",
        "        # Обработка каждого фильма\n",
        "        for film in root.findall('film'):\n",
        "            # Создание словаря для фильма\n",
        "            film_dict = {\n",
        "                'id': film.get('id'),\n",
        "                'title': film.find('title').text,\n",
        "                'genres': [genre.text for genre in film.find('genres_list').findall('genre')],\n",
        "                'director': film.find('director').text,\n",
        "                'composer': film.find('composer').text,\n",
        "                'actors': [actor.text for actor in film.find('actors').findall('actor')],\n",
        "                'release_date': film.find('release_date').text,\n",
        "                'box_office': film.find('box_office').text,\n",
        "                'rating': film.find('rating').text,\n",
        "                'audience_count': film.find('audience_count').text,\n",
        "                'original_language': film.find('original_language').text\n",
        "            }\n",
        "\n",
        "            films_list.append(film_dict)\n",
        "\n",
        "        # Создание итогового словаря\n",
        "        films_data = {\n",
        "            'films': films_list\n",
        "        }\n",
        "\n",
        "        # Запись в JSON файл с красивым форматированием\n",
        "        with open(json_path, 'w', encoding='utf-8') as json_file:\n",
        "            json.dump(films_data, json_file, ensure_ascii=False, indent=2)\n",
        "\n",
        "        print(f\"JSON файл создан: {json_path}\")\n",
        "\n",
        "    except ET.ParseError as e:\n",
        "        print(f\"Ошибка парсинга XML: {e}\")\n",
        "    except IOError as e:\n",
        "        print(f\"Ошибка ввода/вывода: {e}\")\n",
        "    except Exception as e:\n",
        "        print(f\"Непредвиденная ошибка: {e}\")\n",
        "\n",
        "json_path = 'films.json'\n",
        "xml_to_json(xml_path, json_path)"
      ],
      "metadata": {
        "colab": {
          "base_uri": "https://localhost:8080/"
        },
        "id": "UylvNXYdeKg2",
        "outputId": "fcc453ee-f821-40d5-c51d-812de2db284c"
      },
      "execution_count": null,
      "outputs": [
        {
          "output_type": "stream",
          "name": "stdout",
          "text": [
            "JSON файл создан: films.json\n"
          ]
        }
      ]
    },
    {
      "cell_type": "markdown",
      "source": [
        "## Запросы к json файлу"
      ],
      "metadata": {
        "id": "eigOzbiGhO6w"
      }
    },
    {
      "cell_type": "markdown",
      "source": [
        "a) Получить все фильмы указанного жанра (задается в запросе константой).\n",
        "\n",
        "b) Получить все фильмы с актерским составом белее пяти человек.\n",
        "\n",
        "c) Получить все фильмы, в которых указанный человек (задается в запросе константой) является и режиссером и актором одновременно.\n",
        "\n",
        "d) Сформировать список просмотра из заданного количества фильмов указанного жанра. Порядок фильмов определяется случайным образом.\n",
        "\n",
        "e) Собственный запрос с использование минимум двух функций count(), contains(), position(), sum() и др (https://www.w3.org/TR/xpath-functions/)."
      ],
      "metadata": {
        "id": "wi7oEO_XgvZn"
      }
    },
    {
      "cell_type": "code",
      "source": [
        "with open(json_path, 'r', encoding='utf-8') as json_file:\n",
        "    data = json.load(json_file)"
      ],
      "metadata": {
        "id": "bLhkcmEjgNdA"
      },
      "execution_count": null,
      "outputs": []
    },
    {
      "cell_type": "code",
      "source": [
        "data"
      ],
      "metadata": {
        "collapsed": true,
        "colab": {
          "base_uri": "https://localhost:8080/"
        },
        "id": "cVoy_LZYheWl",
        "outputId": "e9a8a8e5-bcb7-4089-d512-8c7052970841"
      },
      "execution_count": null,
      "outputs": [
        {
          "output_type": "execute_result",
          "data": {
            "text/plain": [
              "{'films': [{'id': 'film_1',\n",
              "   'title': 'Властелин колец: Братство кольца',\n",
              "   'genres': ['Фэнтези', 'Приключения', 'Боевик', 'Эпопея'],\n",
              "   'director': 'Питер Джексон',\n",
              "   'composer': 'Говард Шор',\n",
              "   'actors': ['Элайджа Вуд',\n",
              "    'Вигго Мортенсен',\n",
              "    'Иэн Маккеллен',\n",
              "    'Шон Эстин',\n",
              "    'Орландо Блум',\n",
              "    'Кейт Бланшетт',\n",
              "    'Лив Тайлер',\n",
              "    'Хьюго Уивинг',\n",
              "    'Доминик Монаган',\n",
              "    'Билли Бойд',\n",
              "    'Питер Джексон'],\n",
              "   'release_date': '2001-12-19',\n",
              "   'box_office': '880.8 миллиона долларов',\n",
              "   'rating': 'PG-13',\n",
              "   'audience_count': '175.3 миллиона человек',\n",
              "   'original_language': 'Английский'},\n",
              "  {'id': 'film_2',\n",
              "   'title': 'Гарри Поттер и философский камень',\n",
              "   'genres': ['Фэнтези', 'Приключения', 'Семейный', 'Детектив'],\n",
              "   'director': 'Крис Коламбус',\n",
              "   'composer': 'Джон Уильямс',\n",
              "   'actors': ['Дэниел Рэдклифф',\n",
              "    'Руперт Гринт',\n",
              "    'Эмма Уотсон',\n",
              "    'Алан Рикман',\n",
              "    'Робби Колтрейн',\n",
              "    'Мэгги Смит',\n",
              "    'Ричард Харрис'],\n",
              "   'release_date': '2001-11-04',\n",
              "   'box_office': '974.7 миллиона долларов',\n",
              "   'rating': 'PG',\n",
              "   'audience_count': '168.8 миллиона человек',\n",
              "   'original_language': 'Английский'},\n",
              "  {'id': 'film_3',\n",
              "   'title': 'Пираты Карибского моря: Проклятие Чёрной жемчужины',\n",
              "   'genres': ['Приключения', 'Фэнтези', 'Боевик', 'Комедия'],\n",
              "   'director': 'Гор Вербински',\n",
              "   'composer': 'Клаус Бадельт',\n",
              "   'actors': ['Джонни Депп',\n",
              "    'Орландо Блум',\n",
              "    'Кейра Найтли',\n",
              "    'Джеффри Раш',\n",
              "    'Джек Дэвенпорт',\n",
              "    'Кевин Макналли'],\n",
              "   'release_date': '2003-07-09',\n",
              "   'box_office': '654.3 миллиона долларов',\n",
              "   'rating': 'PG-13',\n",
              "   'audience_count': '150.0 миллионов человек',\n",
              "   'original_language': 'Английский'},\n",
              "  {'id': 'film_4',\n",
              "   'title': 'Тёмный рыцарь',\n",
              "   'genres': ['Экшн', 'Драма', 'Криминал', 'Триллер', 'Супергеройский'],\n",
              "   'director': 'Кристофер Нолан',\n",
              "   'composer': 'Ханс Циммер',\n",
              "   'actors': ['Кристиан Бэйл',\n",
              "    'Хит Леджер',\n",
              "    'Аарон Экхарт',\n",
              "    'Маги Джилленхол',\n",
              "    'Гари Олдман'],\n",
              "   'release_date': '2008-07-18',\n",
              "   'box_office': '1.005 миллиард долларов',\n",
              "   'rating': 'PG-13',\n",
              "   'audience_count': '185.0 миллионов человек',\n",
              "   'original_language': 'Английский'},\n",
              "  {'id': 'film_5',\n",
              "   'title': 'Интерстеллар',\n",
              "   'genres': ['Научная фантастика', 'Драма'],\n",
              "   'director': 'Кристофер Нолан',\n",
              "   'composer': 'Ханс Циммер',\n",
              "   'actors': ['Мэттью МакКонахи',\n",
              "    'Энн Хэтэуэй',\n",
              "    'Джессика Честейн',\n",
              "    'Майкл Кейн',\n",
              "    'Тимоти Шаламе'],\n",
              "   'release_date': '2014-11-07',\n",
              "   'box_office': '677.5 миллиона долларов',\n",
              "   'rating': 'PG-13',\n",
              "   'audience_count': '120.0 миллионов человек',\n",
              "   'original_language': 'Английский'},\n",
              "  {'id': 'film_6',\n",
              "   'title': 'Властелин колец: Две крепости',\n",
              "   'genres': ['Фэнтези', 'Приключения', 'Эпопея', 'Боевик', 'Драма'],\n",
              "   'director': 'Питер Джексон',\n",
              "   'composer': 'Говард Шор',\n",
              "   'actors': ['Элайджа Вуд',\n",
              "    'Иэн Маккеллен',\n",
              "    'Лив Тайлер',\n",
              "    'Вигго Мортенсен',\n",
              "    'Шон Астин',\n",
              "    'Питер Джексон'],\n",
              "   'release_date': '2002-12-18',\n",
              "   'box_office': '926.0 миллиона долларов',\n",
              "   'rating': 'PG-13',\n",
              "   'audience_count': '180.0 миллионов человек',\n",
              "   'original_language': 'Английский'},\n",
              "  {'id': 'film_7',\n",
              "   'title': 'Донни Дарко',\n",
              "   'genres': ['Научная фантастика', 'Драма'],\n",
              "   'director': 'Ричард Келли',\n",
              "   'composer': 'Мадонна',\n",
              "   'actors': ['Джейк Джилленхол',\n",
              "    'Мэгги Джилленхол',\n",
              "    'Джеймс Дюваль',\n",
              "    'Дrew Barrymore',\n",
              "    'Патрик Суэйзи',\n",
              "    'Ричард Келли'],\n",
              "   'release_date': '2001-01-19',\n",
              "   'box_office': '7.5 миллионов долларов',\n",
              "   'rating': 'R',\n",
              "   'audience_count': '1.5 миллиона человек',\n",
              "   'original_language': 'Английский'}]}"
            ]
          },
          "metadata": {},
          "execution_count": 59
        }
      ]
    },
    {
      "cell_type": "code",
      "source": [
        "# a) Получить все фильмы указанного жанра\n",
        "genre = 'Фэнтези'\n",
        "films_by_genre = [film['title'] for film in data['films'] if genre in film['genres']]\n",
        "print(\"Фильмы жанра 'Фэнтези':\", films_by_genre)\n",
        "print()\n",
        "\n",
        "# b) Получить все фильмы с актерским составом более пяти человек\n",
        "films_with_large_cast = [film['title'] for film in data['films'] if len(film['actors']) > 5]\n",
        "print(\"Фильмы с более чем 5 актерами:\", films_with_large_cast)\n",
        "print()\n",
        "\n",
        "# c) Получить все фильмы, в которых указанный человек является и режиссером, и актором\n",
        "person = 'Питер Джексон'\n",
        "films_with_person = [film['title'] for film in data['films'] if film['director'] == person and person in film['actors']]\n",
        "print(\"Фильмы, где 'Питер Джексон' и режиссер, и актер:\", films_with_person)\n",
        "print()\n",
        "\n",
        "# d) Сформировать список просмотра из заданного количества фильмов указанного жанра\n",
        "num_films = 3\n",
        "# Выбираем все фильмы указанного жанра\n",
        "all_films = [film for film in data['films'] if genre in film['genres']]\n",
        "# Перемешиваем список фильмов случайным образом\n",
        "random_films = random.sample(all_films, min(num_films, len(all_films)))\n",
        "# Выводим список случайных фильмов\n",
        "print(f\"Список просмотра из {num_films} фильмов жанра '{genre}':\", [film['title'] for film in random_films])\n",
        "print()\n",
        "\n",
        "# e) Собственный запрос с использованием минимум двух функций\n",
        "custom_query = [film for film in data['films'] if len(film['actors']) > 5 and len(film['genres']) > 3][:3]\n",
        "print(\"Фильмы с более чем 5 актерами и более чем 3 жанрами (первые 3 совпадения):\", [film['title'] for film in custom_query])"
      ],
      "metadata": {
        "colab": {
          "base_uri": "https://localhost:8080/"
        },
        "id": "mCsF02cnhW-D",
        "outputId": "d3bcd32e-d996-4181-ffdd-3ceb38d30812"
      },
      "execution_count": null,
      "outputs": [
        {
          "output_type": "stream",
          "name": "stdout",
          "text": [
            "Фильмы жанра 'Фэнтези': ['Властелин колец: Братство кольца', 'Гарри Поттер и философский камень', 'Пираты Карибского моря: Проклятие Чёрной жемчужины', 'Властелин колец: Две крепости']\n",
            "\n",
            "Фильмы с более чем 5 актерами: ['Властелин колец: Братство кольца', 'Гарри Поттер и философский камень', 'Пираты Карибского моря: Проклятие Чёрной жемчужины', 'Властелин колец: Две крепости', 'Донни Дарко']\n",
            "\n",
            "Фильмы, где 'Питер Джексон' и режиссер, и актер: ['Властелин колец: Братство кольца', 'Властелин колец: Две крепости']\n",
            "\n",
            "Список просмотра из 3 фильмов жанра 'Фэнтези': ['Пираты Карибского моря: Проклятие Чёрной жемчужины', 'Гарри Поттер и философский камень', 'Властелин колец: Две крепости']\n",
            "\n",
            "Фильмы с более чем 5 актерами и более чем 3 жанрами (первые 3 совпадения): ['Властелин колец: Братство кольца', 'Гарри Поттер и философский камень', 'Пираты Карибского моря: Проклятие Чёрной жемчужины']\n"
          ]
        }
      ]
    },
    {
      "cell_type": "markdown",
      "source": [
        "## Валидация с JSON Schema"
      ],
      "metadata": {
        "id": "AhlrfoQ5h9UU"
      }
    },
    {
      "cell_type": "code",
      "source": [
        "import jsonschema\n",
        "from jsonschema import validate\n",
        "\n",
        "# Определяем JSON Schema\n",
        "json_schema = {\n",
        "    \"type\": \"object\",\n",
        "    \"properties\": {\n",
        "        \"films\": {\n",
        "            \"type\": \"array\",\n",
        "            \"items\": {\n",
        "                \"type\": \"object\",\n",
        "                \"properties\": {\n",
        "                    \"id\": {\"type\": \"string\"},\n",
        "                    \"title\": {\"type\": \"string\"},\n",
        "                    \"genres\": {\n",
        "                        \"type\": \"array\",\n",
        "                        \"items\": {\"type\": \"string\"}\n",
        "                    },\n",
        "                    \"director\": {\"type\": \"string\"},\n",
        "                    \"composer\": {\"type\": \"string\"},\n",
        "                    \"actors\": {\n",
        "                        \"type\": \"array\",\n",
        "                        \"items\": {\"type\": \"string\"}\n",
        "                    },\n",
        "                    \"release_date\": {\"type\": \"string\", \"format\": \"date\"},\n",
        "                    \"box_office\": {\"type\": \"string\"},\n",
        "                    \"rating\": {\"type\": \"string\"},\n",
        "                    \"audience_count\": {\"type\": \"string\"},\n",
        "                    \"original_language\": {\"type\": \"string\"}\n",
        "                },\n",
        "                \"required\": [\"id\", \"title\", \"genres\", \"director\", \"composer\", \"actors\", \"release_date\", \"box_office\", \"rating\", \"audience_count\", \"original_language\"]\n",
        "            }\n",
        "        }\n",
        "    },\n",
        "    \"required\": [\"films\"]\n",
        "}\n",
        "\n",
        "# Записываем JSON Schema в файл\n",
        "schema_path = 'films_schema.json'\n",
        "with open(schema_path, 'w', encoding='utf-8') as schema_file:\n",
        "    json.dump(json_schema, schema_file, ensure_ascii=False, indent=2)\n",
        "\n",
        "print(f\"JSON Schema файл создан: {schema_path}\")"
      ],
      "metadata": {
        "colab": {
          "base_uri": "https://localhost:8080/"
        },
        "id": "0EhbhAP-hYB9",
        "outputId": "d9414269-cffa-409c-8c16-01bfd50019eb"
      },
      "execution_count": null,
      "outputs": [
        {
          "output_type": "stream",
          "name": "stdout",
          "text": [
            "JSON Schema файл создан: films_schema.json\n"
          ]
        }
      ]
    },
    {
      "cell_type": "code",
      "source": [
        "def validate_json(json_path, schema_path):\n",
        "    \"\"\"\n",
        "    Функция валидации JSON-документа по JSON Schema\n",
        "\n",
        "    :param json_path: путь к JSON файлу\n",
        "    :param schema_path: путь к JSON Schema файлу\n",
        "    :return: результат валидации\n",
        "    \"\"\"\n",
        "    try:\n",
        "        # Загрузка JSON Schema\n",
        "        with open(schema_path, 'r', encoding='utf-8') as schema_file:\n",
        "            schema = json.load(schema_file)\n",
        "\n",
        "        # Загрузка JSON данных\n",
        "        with open(json_path, 'r', encoding='utf-8') as json_file:\n",
        "            data = json.load(json_file)\n",
        "\n",
        "        # Валидация\n",
        "        validate(instance=data, schema=schema)\n",
        "        print(\"JSON документ валиден!\")\n",
        "        return True\n",
        "\n",
        "    except jsonschema.exceptions.ValidationError as e:\n",
        "        print(\"Ошибки валидации:\")\n",
        "        print(e.message)\n",
        "        return False\n",
        "\n",
        "    except IOError as e:\n",
        "        print(f\"Ошибка открытия файла: {e}\")\n",
        "        return False\n",
        "\n",
        "# Пример использования\n",
        "json_path = 'films.json'\n",
        "validation_result = validate_json(json_path, schema_path)"
      ],
      "metadata": {
        "colab": {
          "base_uri": "https://localhost:8080/"
        },
        "id": "U8YGdYUqiAMS",
        "outputId": "b2e2df3b-5ec2-4042-b9b2-20f4a5e8dbe2"
      },
      "execution_count": null,
      "outputs": [
        {
          "output_type": "stream",
          "name": "stdout",
          "text": [
            "JSON документ валиден!\n"
          ]
        }
      ]
    },
    {
      "cell_type": "markdown",
      "source": [
        "## Преобразование в текстовый формат"
      ],
      "metadata": {
        "id": "K7KZmejGiuDh"
      }
    },
    {
      "cell_type": "code",
      "source": [
        "def transform_json_to_txt(json_path, output_path):\n",
        "    \"\"\"\n",
        "    Преобразование JSON в текстовый файл с форматированием\n",
        "    \"\"\"\n",
        "    try:\n",
        "        # Загрузка JSON документа\n",
        "        with open(json_path, 'r', encoding='utf-8') as json_file:\n",
        "            data = json.load(json_file)\n",
        "\n",
        "        # Открытие текстового файла для записи\n",
        "        with open(output_path, 'w', encoding='utf-8') as txt_file:\n",
        "            # Заголовок\n",
        "            txt_file.write(\"=\" * 50 + \"\\n\")\n",
        "            txt_file.write(\"КАТАЛОГ ФИЛЬМОВ\".center(50) + \"\\n\")\n",
        "            txt_file.write(\"=\" * 50 + \"\\n\\n\")\n",
        "\n",
        "            # Обработка каждого фильма\n",
        "            for index, film in enumerate(data['films'], 1):\n",
        "                # Начало описания фильма\n",
        "                txt_file.write(f\"{'=' * 20} Фильм №{index} {'=' * 20}\\n\")\n",
        "\n",
        "                # Шаблон для форматированного вывода\n",
        "                template = \"{:<20}: {}\\n\"\n",
        "\n",
        "                txt_file.write(template.format(\"Название\", film['title']))\n",
        "                txt_file.write(template.format(\"ID\", film.get('id', 'Не указан')))\n",
        "                txt_file.write(template.format(\"Жанры\", \", \".join(film['genres'])))\n",
        "                txt_file.write(template.format(\"Режиссер\", film['director']))\n",
        "                txt_file.write(template.format(\"Композитор\", film['composer']))\n",
        "                txt_file.write(template.format(\"Актеры\", \", \".join(film['actors'])))\n",
        "                txt_file.write(template.format(\"Дата выхода\", film['release_date']))\n",
        "                txt_file.write(template.format(\"Сборы\", film['box_office']))\n",
        "                txt_file.write(template.format(\"Рейтинг\", film['rating']))\n",
        "                txt_file.write(template.format(\"Количество зрителей\", film['audience_count']))\n",
        "                txt_file.write(template.format(\"Оригинальный язык\", film['original_language']))\n",
        "\n",
        "                # Завершение описания фильма\n",
        "                txt_file.write(\"=\" * 50 + \"\\n\\n\")\n",
        "\n",
        "        print(f\"Преобразование из json в txt завершено. Результат сохранен в {output_path}\")\n",
        "        return True\n",
        "\n",
        "    except Exception as e:\n",
        "        print(f\"Ошибка преобразования: {e}\")\n",
        "        return False\n",
        "\n",
        "output_path = 'films_output_json.txt'\n",
        "transform_json_to_txt(json_path, output_path)"
      ],
      "metadata": {
        "colab": {
          "base_uri": "https://localhost:8080/"
        },
        "id": "RX7-vTVWiH75",
        "outputId": "9d19260f-c33b-4d82-c12a-d42d1da69a17"
      },
      "execution_count": null,
      "outputs": [
        {
          "output_type": "stream",
          "name": "stdout",
          "text": [
            "Преобразование из json в txt завершено. Результат сохранен в films_output_json.txt\n"
          ]
        },
        {
          "output_type": "execute_result",
          "data": {
            "text/plain": [
              "True"
            ]
          },
          "metadata": {},
          "execution_count": 64
        }
      ]
    },
    {
      "cell_type": "markdown",
      "source": [
        "## Преобразование в формат html"
      ],
      "metadata": {
        "id": "ad6VpgeNkYCA"
      }
    },
    {
      "cell_type": "code",
      "source": [
        "def generate_html_from_json(json_path, output_path):\n",
        "    \"\"\"\n",
        "    Генерация HTML-страницы из JSON-файла с данными о фильмах\n",
        "\n",
        "    :param json_path: путь к исходному JSON файлу\n",
        "    :param output_path: путь к выходному HTML файлу\n",
        "    :return: результат преобразования\n",
        "    \"\"\"\n",
        "    try:\n",
        "        # Загрузка JSON документа\n",
        "        with open(json_path, 'r', encoding='utf-8') as json_file:\n",
        "            data = json.load(json_file)\n",
        "\n",
        "        # Начало HTML-документа с встроенными стилями\n",
        "        html_content = \"\"\"\n",
        "        <!DOCTYPE html>\n",
        "        <html lang=\"ru\">\n",
        "        <head>\n",
        "            <meta charset=\"UTF-8\">\n",
        "            <title>Каталог фильмов</title>\n",
        "            <style>\n",
        "                body {\n",
        "                    font-family: Arial, sans-serif;\n",
        "                    line-height: 1.6;\n",
        "                    max-width: 1200px;\n",
        "                    margin: 0 auto;\n",
        "                    padding: 20px;\n",
        "                    background-color: #f4f4f4;\n",
        "                }\n",
        "                h1 {\n",
        "                    text-align: center;\n",
        "                    color: #333;\n",
        "                }\n",
        "                .films-table {\n",
        "                    width: 100%;\n",
        "                    border-collapse: collapse;\n",
        "                    margin-top: 20px;\n",
        "                    box-shadow: 0 0 20px rgba(0, 0, 0, 0.1);\n",
        "                }\n",
        "                .films-table th, .films-table td {\n",
        "                    padding: 12px;\n",
        "                    text-align: left;\n",
        "                    border-bottom: 1px solid #ddd;\n",
        "                }\n",
        "                .films-table th {\n",
        "                    background-color: #4CAF50;\n",
        "                    color: white;\n",
        "                    text-transform: uppercase;\n",
        "                }\n",
        "                .films-table tr:nth-child(even) {\n",
        "                    background-color: #f2f2f2;\n",
        "                }\n",
        "                .films-table tr:hover {\n",
        "                    background-color: #ddd;\n",
        "                }\n",
        "                .genres, .actors {\n",
        "                    color: #666;\n",
        "                    font-style: italic;\n",
        "                }\n",
        "            </style>\n",
        "        </head>\n",
        "        <body>\n",
        "            <h1>Каталог фильмов</h1>\n",
        "            <table class=\"films-table\">\n",
        "                <thead>\n",
        "                    <tr>\n",
        "                        <th>ID</th>\n",
        "                        <th>Название</th>\n",
        "                        <th>Жанры</th>\n",
        "                        <th>Режиссер</th>\n",
        "                        <th>Композитор</th>\n",
        "                        <th>Актеры</th>\n",
        "                        <th>Дата выхода</th>\n",
        "                        <th>Сборы</th>\n",
        "                        <th>Рейтинг</th>\n",
        "                        <th>Зрители</th>\n",
        "                        <th>Язык</th>\n",
        "                    </tr>\n",
        "                </thead>\n",
        "                <tbody>\n",
        "        \"\"\"\n",
        "\n",
        "        # Генерация строк таблицы\n",
        "        for film in data['films']:\n",
        "            html_content += f\"\"\"\n",
        "                    <tr>\n",
        "                        <td>{film.get('id', 'Н/Д')}</td>\n",
        "                        <td>{film['title']}</td>\n",
        "                        <td class=\"genres\">{', '.join(film['genres'])}</td>\n",
        "                        <td>{film['director']}</td>\n",
        "                        <td>{film['composer']}</td>\n",
        "                        <td class=\"actors\">{', '.join(film['actors'])}</td>\n",
        "                        <td>{film['release_date']}</td>\n",
        "                        <td>{film['box_office']}</td>\n",
        "                        <td>{film['rating']}</td>\n",
        "                        <td>{film['audience_count']}</td>\n",
        "                        <td>{film['original_language']}</td>\n",
        "                    </tr>\n",
        "            \"\"\"\n",
        "\n",
        "        # Закрытие HTML-документа\n",
        "        html_content += \"\"\"\n",
        "                </tbody>\n",
        "            </table>\n",
        "        </body>\n",
        "        </html>\n",
        "        \"\"\"\n",
        "\n",
        "        # Сохранение HTML-файла\n",
        "        with open(output_path, 'w', encoding='utf-8') as html_file:\n",
        "            html_file.write(html_content)\n",
        "\n",
        "        print(f\"Преобразование завершено. Результат сохранен в {output_path}\")\n",
        "        return True\n",
        "\n",
        "    except json.JSONDecodeError as e:\n",
        "        print(f\"Ошибка декодирования JSON: {e}\")\n",
        "        return False\n",
        "\n",
        "    except IOError as e:\n",
        "        print(f\"Ошибка ввода/вывода: {e}\")\n",
        "        return False\n",
        "\n",
        "    except Exception as e:\n",
        "        print(f\"Непредвиденная ошибка: {e}\")\n",
        "        return False\n",
        "\n",
        "output_path = 'films_output_json.html'\n",
        "generate_html_from_json(json_path, output_path)\n"
      ],
      "metadata": {
        "colab": {
          "base_uri": "https://localhost:8080/"
        },
        "id": "mZAHI0KljYJr",
        "outputId": "fa334c4e-c100-4ae2-d09a-39506aadfba7"
      },
      "execution_count": null,
      "outputs": [
        {
          "output_type": "stream",
          "name": "stdout",
          "text": [
            "Преобразование завершено. Результат сохранен в films_output_json.html\n"
          ]
        },
        {
          "output_type": "execute_result",
          "data": {
            "text/plain": [
              "True"
            ]
          },
          "metadata": {},
          "execution_count": 68
        }
      ]
    },
    {
      "cell_type": "code",
      "source": [
        "import shutil\n",
        "import os\n",
        "from datetime import datetime\n",
        "\n",
        "def archive_folder(source_folder, archive_name=None):\n",
        "    \"\"\"\n",
        "    Архивация папки с использованием shutil\n",
        "\n",
        "    :param source_folder: путь к исходной папке\n",
        "    :param archive_name: имя архива (если None, генерируется автоматически)\n",
        "    :return: путь к созданному архиву\n",
        "    \"\"\"\n",
        "    # Если имя архива не указано, генерируем его\n",
        "    if archive_name is None:\n",
        "        timestamp = datetime.now().strftime(\"%Y%m%d_%H%M%S\")\n",
        "        archive_name = f\"archive_{timestamp}.zip\"\n",
        "\n",
        "    # Полный путь к архиву\n",
        "    archive_path = os.path.join(os.path.dirname(source_folder), archive_name)\n",
        "\n",
        "    try:\n",
        "        # Создание архива\n",
        "        shutil.make_archive(\n",
        "            archive_path[:-4],  # Убираем расширение .zip\n",
        "            'zip',              # Формат архива\n",
        "            source_folder       # Исходная папка\n",
        "        )\n",
        "\n",
        "        print(f\"Архив создан: {archive_path}\")\n",
        "        return archive_path\n",
        "\n",
        "    except Exception as e:\n",
        "        print(f\"Ошибка архивации: {e}\")\n",
        "        return None\n",
        "\n",
        "# Пример использования\n",
        "source_folder = '/content/results'\n",
        "archive_path = archive_folder(source_folder)"
      ],
      "metadata": {
        "id": "H-evnOQNmggr",
        "outputId": "51e69048-74f7-4afa-efba-fe7970c6222d",
        "colab": {
          "base_uri": "https://localhost:8080/"
        }
      },
      "execution_count": null,
      "outputs": [
        {
          "output_type": "stream",
          "name": "stdout",
          "text": [
            "Архив создан: /content/archive_20241115_205323.zip\n"
          ]
        }
      ]
    },
    {
      "cell_type": "code",
      "source": [],
      "metadata": {
        "id": "vWO2YfltmhWE"
      },
      "execution_count": null,
      "outputs": []
    }
  ]
}